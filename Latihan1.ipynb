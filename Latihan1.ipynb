{
 "cells": [
  {
   "cell_type": "code",
   "execution_count": null,
   "id": "56554e1e",
   "metadata": {},
   "outputs": [],
   "source": [
    "#No.1\n",
    "\n",
    "bilangan = input(\"Insert Bilangan : \")\n",
    "if (int(bilangan)% 2 == 0) :\n",
    "    print(\"Bilangan Genap\")\n",
    "else :\n",
    "    print(\"Bilangan Ganjil\")"
   ]
  },
  {
   "cell_type": "code",
   "execution_count": 4,
   "id": "04c5bf5b",
   "metadata": {},
   "outputs": [
    {
     "name": "stdout",
     "output_type": "stream",
     "text": [
      "insert angka8\n",
      "1\n",
      "2\n",
      "4\n"
     ]
    }
   ],
   "source": [
    "#No.2\n",
    "\n",
    "x = int(input(\"insert angka\"))\n",
    "y=1\n",
    "\n",
    "while y < x:\n",
    "    if x % y == 0:\n",
    "        print(y)\n",
    "    y+=1"
   ]
  },
  {
   "cell_type": "code",
   "execution_count": 20,
   "id": "e6eb199b",
   "metadata": {},
   "outputs": [
    {
     "name": "stdout",
     "output_type": "stream",
     "text": [
      "masukan nilai dalam angka 1-100: 80\n",
      "Nilai Anda A\n"
     ]
    }
   ],
   "source": [
    "#No.3\n",
    "\n",
    "huruf = int(input('masukan nilai dalam angka 1-100: '))\n",
    " \n",
    "if 85 > huruf >= 80:\n",
    "    print(\"Nilai Anda A\")\n",
    "elif 80 > huruf >= 60:\n",
    "    print(\"Nilai Anda B\")\n",
    "elif 60 > huruf >= 40:\n",
    "    print(\"Nilai Anda C\")\n",
    "elif 40 > huruf >= 20:\n",
    "    print(\"Nilai Anda D\")\n",
    "elif 20 > huruf >= 0:\n",
    "    print(\"Nilai Anda E\")"
   ]
  },
  {
   "cell_type": "code",
   "execution_count": null,
   "id": "558a2339",
   "metadata": {},
   "outputs": [],
   "source": [
    "#No.4\n",
    "Buatlah sebuah program yang akan men-generate angka acak antara 1-9. Kemudian mintalah user untuk menebak angka yang telah diacak tadi. Bila angka lebih kecil, maka program akan mencetak ‘too low’ dan bila angka lebih besar, makan akan mencetak ‘too high’. Bila input dari user tepat, maka program akan mencetak ‘You Got It!"
   ]
  },
  {
   "cell_type": "code",
   "execution_count": null,
   "id": "5d5b5a34",
   "metadata": {},
   "outputs": [],
   "source": []
  }
 ],
 "metadata": {
  "kernelspec": {
   "display_name": "Python 3",
   "language": "python",
   "name": "python3"
  },
  "language_info": {
   "codemirror_mode": {
    "name": "ipython",
    "version": 3
   },
   "file_extension": ".py",
   "mimetype": "text/x-python",
   "name": "python",
   "nbconvert_exporter": "python",
   "pygments_lexer": "ipython3",
   "version": "3.8.8"
  }
 },
 "nbformat": 4,
 "nbformat_minor": 5
}
